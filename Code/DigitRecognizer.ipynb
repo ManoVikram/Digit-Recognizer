{
 "cells": [
  {
   "cell_type": "markdown",
   "metadata": {},
   "source": [
    "# Digit Recognizer (Computer Vision)"
   ]
  },
  {
   "cell_type": "markdown",
   "metadata": {},
   "source": [
    "## Importing the libraries"
   ]
  },
  {
   "cell_type": "code",
   "execution_count": 94,
   "metadata": {},
   "outputs": [],
   "source": [
    "import pandas as pd\n",
    "import numpy as np\n",
    "import tensorflow as tf\n",
    "from keras.preprocessing.image import ImageDataGenerator"
   ]
  },
  {
   "cell_type": "code",
   "execution_count": 95,
   "metadata": {},
   "outputs": [
    {
     "data": {
      "text/plain": [
       "'2.14.0'"
      ]
     },
     "execution_count": 95,
     "metadata": {},
     "output_type": "execute_result"
    }
   ],
   "source": [
    "tf.__version__"
   ]
  },
  {
   "cell_type": "markdown",
   "metadata": {},
   "source": [
    "## Part 1 - Data Preprocessing"
   ]
  },
  {
   "cell_type": "markdown",
   "metadata": {},
   "source": [
    "### Importing the training set"
   ]
  },
  {
   "cell_type": "code",
   "execution_count": 96,
   "metadata": {},
   "outputs": [],
   "source": [
    "trainDF = pd.read_csv(\"../Datasets/train.csv\")"
   ]
  },
  {
   "cell_type": "code",
   "execution_count": 97,
   "metadata": {},
   "outputs": [
    {
     "name": "stdout",
     "output_type": "stream",
     "text": [
      "   label  pixel0  pixel1  pixel2  ...  pixel780  pixel781  pixel782  pixel783\n",
      "0      1       0       0       0  ...         0         0         0         0\n",
      "1      0       0       0       0  ...         0         0         0         0\n",
      "2      1       0       0       0  ...         0         0         0         0\n",
      "3      4       0       0       0  ...         0         0         0         0\n",
      "4      0       0       0       0  ...         0         0         0         0\n",
      "\n",
      "[5 rows x 785 columns]\n"
     ]
    }
   ],
   "source": [
    "print(trainDF.head())"
   ]
  },
  {
   "cell_type": "markdown",
   "metadata": {},
   "source": [
    "### Importing the testing set"
   ]
  },
  {
   "cell_type": "code",
   "execution_count": 98,
   "metadata": {},
   "outputs": [],
   "source": [
    "testDF = pd.read_csv(\"../Datasets/test.csv\")"
   ]
  },
  {
   "cell_type": "code",
   "execution_count": 99,
   "metadata": {},
   "outputs": [
    {
     "name": "stdout",
     "output_type": "stream",
     "text": [
      "   pixel0  pixel1  pixel2  pixel3  ...  pixel780  pixel781  pixel782  pixel783\n",
      "0       0       0       0       0  ...         0         0         0         0\n",
      "1       0       0       0       0  ...         0         0         0         0\n",
      "2       0       0       0       0  ...         0         0         0         0\n",
      "3       0       0       0       0  ...         0         0         0         0\n",
      "4       0       0       0       0  ...         0         0         0         0\n",
      "\n",
      "[5 rows x 784 columns]\n"
     ]
    }
   ],
   "source": [
    "print(testDF.head())"
   ]
  },
  {
   "cell_type": "markdown",
   "metadata": {},
   "source": [
    "### Splitting the training set to features and target variables"
   ]
  },
  {
   "cell_type": "code",
   "execution_count": 100,
   "metadata": {},
   "outputs": [],
   "source": [
    "x_train = trainDF.iloc[:, 1:].values\n",
    "y_train = trainDF.iloc[:, 0].values"
   ]
  },
  {
   "cell_type": "code",
   "execution_count": 101,
   "metadata": {},
   "outputs": [
    {
     "name": "stdout",
     "output_type": "stream",
     "text": [
      "[[0 0 0 ... 0 0 0]\n",
      " [0 0 0 ... 0 0 0]\n",
      " [0 0 0 ... 0 0 0]\n",
      " ...\n",
      " [0 0 0 ... 0 0 0]\n",
      " [0 0 0 ... 0 0 0]\n",
      " [0 0 0 ... 0 0 0]]\n"
     ]
    }
   ],
   "source": [
    "print(x_train)"
   ]
  },
  {
   "cell_type": "code",
   "execution_count": 102,
   "metadata": {},
   "outputs": [
    {
     "name": "stdout",
     "output_type": "stream",
     "text": [
      "[1 0 1 ... 7 6 9]\n"
     ]
    }
   ],
   "source": [
    "print(y_train)"
   ]
  },
  {
   "cell_type": "markdown",
   "metadata": {},
   "source": [
    "### Assigning testing set to a variable"
   ]
  },
  {
   "cell_type": "code",
   "execution_count": 103,
   "metadata": {},
   "outputs": [],
   "source": [
    "x_test = testDF.values"
   ]
  },
  {
   "cell_type": "code",
   "execution_count": 104,
   "metadata": {},
   "outputs": [
    {
     "name": "stdout",
     "output_type": "stream",
     "text": [
      "[[0 0 0 ... 0 0 0]\n",
      " [0 0 0 ... 0 0 0]\n",
      " [0 0 0 ... 0 0 0]\n",
      " ...\n",
      " [0 0 0 ... 0 0 0]\n",
      " [0 0 0 ... 0 0 0]\n",
      " [0 0 0 ... 0 0 0]]\n"
     ]
    }
   ],
   "source": [
    "print(x_test)"
   ]
  },
  {
   "cell_type": "markdown",
   "metadata": {},
   "source": [
    "### Normalize the pixel values to be between 0 and 1 for training set"
   ]
  },
  {
   "cell_type": "code",
   "execution_count": 105,
   "metadata": {},
   "outputs": [],
   "source": [
    "x_train = x_train.astype(\"float32\") / 255"
   ]
  },
  {
   "cell_type": "markdown",
   "metadata": {},
   "source": [
    "### Normalize the pixel vaues to bet between 0 and 1 for testing set"
   ]
  },
  {
   "cell_type": "code",
   "execution_count": 106,
   "metadata": {},
   "outputs": [],
   "source": [
    "x_test = x_test.astype(\"float32\") / 255"
   ]
  },
  {
   "cell_type": "markdown",
   "metadata": {},
   "source": [
    "### Reshaping the training and testing data to fit the keras model"
   ]
  },
  {
   "cell_type": "code",
   "execution_count": 107,
   "metadata": {},
   "outputs": [],
   "source": [
    "x_train = x_train.reshape(x_train.shape[0], 28, 28, 1)\n",
    "x_test = x_test.reshape(x_test.shape[0], 28, 28, 1)"
   ]
  },
  {
   "cell_type": "markdown",
   "metadata": {},
   "source": [
    "### Converting target variable to binary class matrices"
   ]
  },
  {
   "cell_type": "code",
   "execution_count": 108,
   "metadata": {},
   "outputs": [],
   "source": [
    "y_train = tf.keras.utils.to_categorical(y_train, 10)"
   ]
  },
  {
   "cell_type": "markdown",
   "metadata": {},
   "source": [
    "## Part 2 - Building the CNN"
   ]
  },
  {
   "cell_type": "markdown",
   "metadata": {},
   "source": [
    "### Initialize the CNN"
   ]
  },
  {
   "cell_type": "code",
   "execution_count": 109,
   "metadata": {},
   "outputs": [],
   "source": [
    "cnn = tf.keras.models.Sequential()"
   ]
  },
  {
   "cell_type": "markdown",
   "metadata": {},
   "source": [
    "### Step 1 - Convolution"
   ]
  },
  {
   "cell_type": "code",
   "execution_count": 110,
   "metadata": {},
   "outputs": [],
   "source": [
    "cnn.add(tf.keras.layers.Conv2D(filters = 32, kernel_size = 3, activation = \"relu\"))"
   ]
  },
  {
   "cell_type": "markdown",
   "metadata": {},
   "source": [
    "### Step 2 - Pooling"
   ]
  },
  {
   "cell_type": "code",
   "execution_count": 111,
   "metadata": {},
   "outputs": [],
   "source": [
    "cnn.add(tf.keras.layers.MaxPool2D(pool_size = 2, strides = 2))"
   ]
  },
  {
   "cell_type": "markdown",
   "metadata": {},
   "source": [
    "### Adding a 2nd Convolutional layer"
   ]
  },
  {
   "cell_type": "code",
   "execution_count": 112,
   "metadata": {},
   "outputs": [],
   "source": [
    "cnn.add(tf.keras.layers.Conv2D(filters = 32, kernel_size = 3, activation = \"relu\"))\n",
    "cnn.add(tf.keras.layers.MaxPool2D(pool_size = 2, strides = 32))"
   ]
  },
  {
   "cell_type": "markdown",
   "metadata": {},
   "source": [
    "### Step 3 - Flattening"
   ]
  },
  {
   "cell_type": "code",
   "execution_count": 113,
   "metadata": {},
   "outputs": [],
   "source": [
    "cnn.add(tf.keras.layers.Flatten())"
   ]
  },
  {
   "cell_type": "markdown",
   "metadata": {},
   "source": [
    "### Step 4 - Full Connection"
   ]
  },
  {
   "cell_type": "code",
   "execution_count": 114,
   "metadata": {},
   "outputs": [],
   "source": [
    "cnn.add(tf.keras.layers.Dense(units = 128, activation = \"relu\"))"
   ]
  },
  {
   "cell_type": "markdown",
   "metadata": {},
   "source": [
    "### Step 5 - Output Layer"
   ]
  },
  {
   "cell_type": "code",
   "execution_count": 118,
   "metadata": {},
   "outputs": [],
   "source": [
    "cnn.add(tf.keras.layers.Dense(units = 10, activation = \"sigmoid\"))"
   ]
  },
  {
   "cell_type": "markdown",
   "metadata": {},
   "source": [
    "## Part 3 - Training the CNN"
   ]
  },
  {
   "cell_type": "markdown",
   "metadata": {},
   "source": [
    "### Compiling the CNN"
   ]
  },
  {
   "cell_type": "code",
   "execution_count": 119,
   "metadata": {},
   "outputs": [],
   "source": [
    "cnn.compile(optimizer = \"adam\", loss = \"binary_crossentropy\", metrics = [\"accuracy\"])"
   ]
  },
  {
   "cell_type": "markdown",
   "metadata": {},
   "source": [
    "### Training the CNN on the training set and evaluating it on the test set"
   ]
  },
  {
   "cell_type": "code",
   "execution_count": 120,
   "metadata": {},
   "outputs": [
    {
     "name": "stdout",
     "output_type": "stream",
     "text": [
      "Epoch 1/25\n",
      "1313/1313 [==============================] - 40s 29ms/step - loss: 0.5180 - accuracy: 0.1013\n",
      "Epoch 2/25\n",
      "1313/1313 [==============================] - 43s 33ms/step - loss: 0.3629 - accuracy: 0.1094\n",
      "Epoch 3/25\n",
      "1313/1313 [==============================] - 43s 33ms/step - loss: 0.3302 - accuracy: 0.1115\n",
      "Epoch 4/25\n",
      "1313/1313 [==============================] - 44s 33ms/step - loss: 0.3253 - accuracy: 0.1115\n",
      "Epoch 5/25\n",
      "1313/1313 [==============================] - 44s 33ms/step - loss: 0.3250 - accuracy: 0.1115\n",
      "Epoch 6/25\n",
      "1313/1313 [==============================] - 44s 34ms/step - loss: 0.3249 - accuracy: 0.1115\n",
      "Epoch 7/25\n",
      "1313/1313 [==============================] - 40s 31ms/step - loss: 0.3249 - accuracy: 0.1115\n",
      "Epoch 8/25\n",
      "1313/1313 [==============================] - 6242s 5s/step - loss: 0.3249 - accuracy: 0.1115\n",
      "Epoch 9/25\n",
      "1313/1313 [==============================] - 27s 20ms/step - loss: 0.3249 - accuracy: 0.1115\n",
      "Epoch 10/25\n",
      "1313/1313 [==============================] - 22s 17ms/step - loss: 0.3249 - accuracy: 0.1115\n",
      "Epoch 11/25\n",
      "1313/1313 [==============================] - 22s 16ms/step - loss: 0.3249 - accuracy: 0.1115\n",
      "Epoch 12/25\n",
      "1313/1313 [==============================] - 39s 30ms/step - loss: 0.3249 - accuracy: 0.1115\n",
      "Epoch 13/25\n",
      "1313/1313 [==============================] - 42s 32ms/step - loss: 0.3249 - accuracy: 0.1115\n",
      "Epoch 14/25\n",
      "1313/1313 [==============================] - 42s 32ms/step - loss: 0.3249 - accuracy: 0.1115\n",
      "Epoch 15/25\n",
      "1313/1313 [==============================] - 44s 33ms/step - loss: 0.3249 - accuracy: 0.1115\n",
      "Epoch 16/25\n",
      "1313/1313 [==============================] - 44s 33ms/step - loss: 0.3249 - accuracy: 0.1115\n",
      "Epoch 17/25\n",
      "1313/1313 [==============================] - 44s 34ms/step - loss: 0.3249 - accuracy: 0.1115\n",
      "Epoch 18/25\n",
      "1313/1313 [==============================] - 45s 34ms/step - loss: 0.3249 - accuracy: 0.1115\n",
      "Epoch 19/25\n",
      "1313/1313 [==============================] - 43s 33ms/step - loss: 0.3249 - accuracy: 0.1115\n",
      "Epoch 20/25\n",
      "1313/1313 [==============================] - 43s 32ms/step - loss: 0.3249 - accuracy: 0.1115\n",
      "Epoch 21/25\n",
      "1313/1313 [==============================] - 43s 32ms/step - loss: 0.3249 - accuracy: 0.1115\n",
      "Epoch 22/25\n",
      "1313/1313 [==============================] - 44s 34ms/step - loss: 0.3249 - accuracy: 0.1115\n",
      "Epoch 23/25\n",
      "1313/1313 [==============================] - 44s 33ms/step - loss: 0.3249 - accuracy: 0.1115\n",
      "Epoch 24/25\n",
      "1313/1313 [==============================] - 44s 34ms/step - loss: 0.3249 - accuracy: 0.1115\n",
      "Epoch 25/25\n",
      "1313/1313 [==============================] - 43s 33ms/step - loss: 0.3249 - accuracy: 0.1115\n"
     ]
    },
    {
     "data": {
      "text/plain": [
       "<keras.src.callbacks.History at 0x1e025fd6890>"
      ]
     },
     "execution_count": 120,
     "metadata": {},
     "output_type": "execute_result"
    }
   ],
   "source": [
    "cnn.fit(x = x_train, y = y_train, epochs = 25)"
   ]
  },
  {
   "cell_type": "markdown",
   "metadata": {},
   "source": [
    "## Part 4 - Predicting the test set results"
   ]
  },
  {
   "cell_type": "code",
   "execution_count": 121,
   "metadata": {},
   "outputs": [
    {
     "name": "stdout",
     "output_type": "stream",
     "text": [
      "875/875 [==============================] - 5s 6ms/step\n"
     ]
    }
   ],
   "source": [
    "result = cnn.predict(x_test)"
   ]
  },
  {
   "cell_type": "code",
   "execution_count": 124,
   "metadata": {},
   "outputs": [
    {
     "name": "stdout",
     "output_type": "stream",
     "text": [
      "[[0.09903133 0.11246407 0.0991756  ... 0.10469843 0.09646314 0.10012168]\n",
      " [0.09903133 0.11246407 0.0991756  ... 0.10469843 0.09646314 0.10012168]\n",
      " [0.09903133 0.11246407 0.0991756  ... 0.10469843 0.09646314 0.10012168]\n",
      " ...\n",
      " [0.09903133 0.11246407 0.0991756  ... 0.10469843 0.09646314 0.10012168]\n",
      " [0.09903133 0.11246407 0.0991756  ... 0.10469843 0.09646314 0.10012168]\n",
      " [0.09903133 0.11246407 0.0991756  ... 0.10469843 0.09646314 0.10012168]]\n"
     ]
    }
   ],
   "source": [
    "print(result)"
   ]
  },
  {
   "cell_type": "code",
   "execution_count": 125,
   "metadata": {},
   "outputs": [],
   "source": [
    "predicted_digits = np.argmax(result, axis = 1)"
   ]
  },
  {
   "cell_type": "code",
   "execution_count": 126,
   "metadata": {},
   "outputs": [
    {
     "name": "stdout",
     "output_type": "stream",
     "text": [
      "[1 1 1 ... 1 1 1]\n"
     ]
    }
   ],
   "source": [
    "print(predicted_digits)"
   ]
  },
  {
   "cell_type": "markdown",
   "metadata": {},
   "source": [
    "## Part 5 - Converting the result to a CSV file"
   ]
  },
  {
   "cell_type": "code",
   "execution_count": 135,
   "metadata": {},
   "outputs": [],
   "source": [
    "resultDF = pd.DataFrame({\"ImageId\": [i + 1 for i in range(len(predicted_digits))], \"Label\": predicted_digits})"
   ]
  },
  {
   "cell_type": "code",
   "execution_count": 137,
   "metadata": {},
   "outputs": [],
   "source": [
    "resultDF.to_csv(\"../Solution/result_submission.csv\", index = False)"
   ]
  }
 ],
 "metadata": {
  "kernelspec": {
   "display_name": "Python 3",
   "language": "python",
   "name": "python3"
  },
  "language_info": {
   "codemirror_mode": {
    "name": "ipython",
    "version": 3
   },
   "file_extension": ".py",
   "mimetype": "text/x-python",
   "name": "python",
   "nbconvert_exporter": "python",
   "pygments_lexer": "ipython3",
   "version": "3.11.6"
  }
 },
 "nbformat": 4,
 "nbformat_minor": 2
}
